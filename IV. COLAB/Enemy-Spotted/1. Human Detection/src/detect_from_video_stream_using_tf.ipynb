{
  "nbformat": 4,
  "nbformat_minor": 0,
  "metadata": {
    "colab": {
      "provenance": [],
      "gpuType": "T4",
      "authorship_tag": "ABX9TyPATCpngBZQN0jtiAVU3VD7",
      "include_colab_link": true
    },
    "kernelspec": {
      "name": "python3",
      "display_name": "Python 3"
    },
    "language_info": {
      "name": "python"
    },
    "accelerator": "GPU"
  },
  "cells": [
    {
      "cell_type": "markdown",
      "metadata": {
        "id": "view-in-github",
        "colab_type": "text"
      },
      "source": [
        "<a href=\"https://colab.research.google.com/github/inyong37/Study/blob/master/IV.%20COLAB/Enemy-Spotted/1.%20Human%20Detection/src/detect_from_video_stream_using_tf.ipynb\" target=\"_parent\"><img src=\"https://colab.research.google.com/assets/colab-badge.svg\" alt=\"Open In Colab\"/></a>"
      ]
    },
    {
      "cell_type": "code",
      "execution_count": null,
      "metadata": {
        "colab": {
          "base_uri": "https://localhost:8080/"
        },
        "id": "5qPiatgmpxs3",
        "outputId": "1e7b72c9-9cdc-45c8-a4f0-f3da0ffcc866"
      },
      "outputs": [
        {
          "output_type": "stream",
          "name": "stderr",
          "text": [
            "WARNING:tensorflow:`input_shape` is undefined or non-square, or `rows` is not in [96, 128, 160, 192, 224]. Weights for input shape (224, 224) will be loaded as the default.\n"
          ]
        },
        {
          "output_type": "stream",
          "name": "stdout",
          "text": [
            "Downloading data from https://storage.googleapis.com/tensorflow/keras-applications/mobilenet_v2/mobilenet_v2_weights_tf_dim_ordering_tf_kernels_1.0_224_no_top.h5\n",
            "9406464/9406464 [==============================] - 0s 0us/step\n"
          ]
        }
      ],
      "source": [
        "import cv2\n",
        "import numpy as np\n",
        "import tensorflow as tf\n",
        "from tensorflow.keras.applications import MobileNetV2\n",
        "from tensorflow.keras.applications.mobilenet_v2 import preprocess_input\n",
        "from tensorflow.keras.models import Model\n",
        "\n",
        "# Load the MobileNetV2 model pre-trained on ImageNet data\n",
        "base_model = MobileNetV2(weights='imagenet', include_top=False)\n",
        "model = Model(inputs=base_model.input, outputs=base_model.get_layer('out_relu').output)\n",
        "\n",
        "\n",
        "# Function to detect humans in a frame\n",
        "def detect_people(frame):\n",
        "    h, w = frame.shape[:2]\n",
        "\n",
        "    # Resize and preprocess the frame for the model\n",
        "    frame_resized = cv2.resize(frame, (224, 224))\n",
        "    input_data = preprocess_input(np.expand_dims(frame_resized, axis=0))\n",
        "\n",
        "    # Get predictions from the model\n",
        "    predictions = model.predict(input_data)\n",
        "\n",
        "    # Post-process the predictions\n",
        "    for i in range(predictions.shape[1]):\n",
        "        confidence = predictions[0, i, 0, 0]\n",
        "\n",
        "        # If confidence is above a certain threshold, consider it a human detection\n",
        "        if confidence > 0.5:\n",
        "            box = predictions[0, i, 0, 1:5] * np.array([w, h, w, h])\n",
        "            (startX, startY, endX, endY) = box.astype(\"int\")\n",
        "\n",
        "            # Draw the bounding box around the detected human\n",
        "            cv2.rectangle(frame, (startX, startY), (endX, endY), (0, 255, 0), 2)\n",
        "\n",
        "    return frame\n",
        "\n",
        "# Open a video capture object (0 represents the default camera)\n",
        "cap = cv2.VideoCapture(0)\n",
        "\n",
        "while True:\n",
        "    ret, frame = cap.read()\n",
        "\n",
        "    if not ret:\n",
        "        break\n",
        "\n",
        "    # Detect humans in the current frame\n",
        "    frame = detect_people(frame)\n",
        "\n",
        "    # Display the result\n",
        "    cv2.imshow('Human Detection', frame)\n",
        "\n",
        "    # Break the loop if 'q' key is pressed\n",
        "    if cv2.waitKey(1) & 0xFF == ord('q'):\n",
        "        break\n",
        "\n",
        "# Release the video capture object and close the display window\n",
        "cap.release()\n",
        "cv2.destroyAllWindows()\n"
      ]
    },
    {
      "cell_type": "code",
      "source": [],
      "metadata": {
        "id": "J0kjTqlDp8NA"
      },
      "execution_count": null,
      "outputs": []
    }
  ]
}