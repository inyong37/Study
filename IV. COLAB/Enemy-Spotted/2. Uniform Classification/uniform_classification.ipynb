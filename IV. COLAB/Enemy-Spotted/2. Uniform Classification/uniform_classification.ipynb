{
  "nbformat": 4,
  "nbformat_minor": 0,
  "metadata": {
    "colab": {
      "name": "uniform_classification.ipynb",
      "provenance": [],
      "collapsed_sections": [],
      "authorship_tag": "ABX9TyMHpVIz/QsouKvtIdMcgCrK",
      "include_colab_link": true
    },
    "kernelspec": {
      "name": "python3",
      "display_name": "Python 3"
    },
    "language_info": {
      "name": "python"
    },
    "accelerator": "GPU"
  },
  "cells": [
    {
      "cell_type": "markdown",
      "metadata": {
        "id": "view-in-github",
        "colab_type": "text"
      },
      "source": [
        "<a href=\"https://colab.research.google.com/github/inyong37/Study/blob/master/IV.%20COLAB/Enemy-Spotted/2.%20Uniform%20Classification/uniform_classification.ipynb\" target=\"_parent\"><img src=\"https://colab.research.google.com/assets/colab-badge.svg\" alt=\"Open In Colab\"/></a>"
      ]
    },
    {
      "cell_type": "code",
      "execution_count": null,
      "metadata": {
        "id": "M-fyQQlbQzfl"
      },
      "outputs": [],
      "source": [
        "# Title: Uniform classification using Few-Shot learning with Reptile\n",
        "# Author: Inyong Hwang\n",
        "# Date: 2022-01-24-Mon.\n",
        "\n",
        "# Import Libraries\n",
        "import matplotlib.pyplot as plt\n",
        "import numpy as np\n",
        "import random\n",
        "import tensorflow as tf\n",
        "from tensorflow import keras\n",
        "from tensorflow.keras import layers\n",
        "import tensorflow_datasets as tfds\n",
        "\n",
        "# Define the Hyperparameters\n",
        "# Define the Hyperparameters\n",
        "learning_rate = 0.003\n",
        "meta_step_size = 0.25\n",
        "\n",
        "inner_batch_size = 25\n",
        "eval_batch_size = 25\n",
        "\n",
        "meta_iters = 2000\n",
        "eval_iters = 5\n",
        "inner_iters = 4\n",
        "\n",
        "eval_interval = 1\n",
        "train_shots = 20\n",
        "shots = 1\n",
        "classes = 5\n",
        "\n",
        "# Create dataset from my GitHub/Google Drive\n",
        "class Dataset:\n",
        "  pass  "
      ]
    }
  ]
}