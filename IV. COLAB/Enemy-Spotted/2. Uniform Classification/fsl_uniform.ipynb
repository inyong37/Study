{
  "nbformat": 4,
  "nbformat_minor": 0,
  "metadata": {
    "colab": {
      "name": "fsl_uniform.ipynb",
      "provenance": [],
      "collapsed_sections": [],
      "authorship_tag": "ABX9TyPGfpoT7BBLpdgY7SX/v7i+",
      "include_colab_link": true
    },
    "kernelspec": {
      "name": "python3",
      "display_name": "Python 3"
    },
    "language_info": {
      "name": "python"
    },
    "accelerator": "GPU"
  },
  "cells": [
    {
      "cell_type": "markdown",
      "metadata": {
        "id": "view-in-github",
        "colab_type": "text"
      },
      "source": [
        "<a href=\"https://colab.research.google.com/github/inyong37/Study/blob/master/IV.%20COLAB/Enemy-Spotted/2.%20Uniform%20Classification/fsl_uniform.ipynb\" target=\"_parent\"><img src=\"https://colab.research.google.com/assets/colab-badge.svg\" alt=\"Open In Colab\"/></a>"
      ]
    },
    {
      "cell_type": "code",
      "execution_count": null,
      "metadata": {
        "colab": {
          "base_uri": "https://localhost:8080/"
        },
        "id": "XimJm3VCcdQB",
        "outputId": "febf9d8e-6e63-4244-bed0-eece515aaf98"
      },
      "outputs": [
        {
          "output_type": "stream",
          "name": "stdout",
          "text": [
            "processor\t: 0\n",
            "vendor_id\t: GenuineIntel\n",
            "cpu family\t: 6\n",
            "model\t\t: 63\n",
            "model name\t: Intel(R) Xeon(R) CPU @ 2.30GHz\n",
            "stepping\t: 0\n",
            "microcode\t: 0x1\n",
            "cpu MHz\t\t: 2299.998\n",
            "cache size\t: 46080 KB\n",
            "physical id\t: 0\n",
            "siblings\t: 2\n",
            "core id\t\t: 0\n",
            "cpu cores\t: 1\n",
            "apicid\t\t: 0\n",
            "initial apicid\t: 0\n",
            "fpu\t\t: yes\n",
            "fpu_exception\t: yes\n",
            "cpuid level\t: 13\n",
            "wp\t\t: yes\n",
            "flags\t\t: fpu vme de pse tsc msr pae mce cx8 apic sep mtrr pge mca cmov pat pse36 clflush mmx fxsr sse sse2 ss ht syscall nx pdpe1gb rdtscp lm constant_tsc rep_good nopl xtopology nonstop_tsc cpuid tsc_known_freq pni pclmulqdq ssse3 fma cx16 pcid sse4_1 sse4_2 x2apic movbe popcnt aes xsave avx f16c rdrand hypervisor lahf_lm abm invpcid_single ssbd ibrs ibpb stibp fsgsbase tsc_adjust bmi1 avx2 smep bmi2 erms invpcid xsaveopt arat md_clear arch_capabilities\n",
            "bugs\t\t: cpu_meltdown spectre_v1 spectre_v2 spec_store_bypass l1tf mds swapgs\n",
            "bogomips\t: 4599.99\n",
            "clflush size\t: 64\n",
            "cache_alignment\t: 64\n",
            "address sizes\t: 46 bits physical, 48 bits virtual\n",
            "power management:\n",
            "\n",
            "processor\t: 1\n",
            "vendor_id\t: GenuineIntel\n",
            "cpu family\t: 6\n",
            "model\t\t: 63\n",
            "model name\t: Intel(R) Xeon(R) CPU @ 2.30GHz\n",
            "stepping\t: 0\n",
            "microcode\t: 0x1\n",
            "cpu MHz\t\t: 2299.998\n",
            "cache size\t: 46080 KB\n",
            "physical id\t: 0\n",
            "siblings\t: 2\n",
            "core id\t\t: 0\n",
            "cpu cores\t: 1\n",
            "apicid\t\t: 1\n",
            "initial apicid\t: 1\n",
            "fpu\t\t: yes\n",
            "fpu_exception\t: yes\n",
            "cpuid level\t: 13\n",
            "wp\t\t: yes\n",
            "flags\t\t: fpu vme de pse tsc msr pae mce cx8 apic sep mtrr pge mca cmov pat pse36 clflush mmx fxsr sse sse2 ss ht syscall nx pdpe1gb rdtscp lm constant_tsc rep_good nopl xtopology nonstop_tsc cpuid tsc_known_freq pni pclmulqdq ssse3 fma cx16 pcid sse4_1 sse4_2 x2apic movbe popcnt aes xsave avx f16c rdrand hypervisor lahf_lm abm invpcid_single ssbd ibrs ibpb stibp fsgsbase tsc_adjust bmi1 avx2 smep bmi2 erms invpcid xsaveopt arat md_clear arch_capabilities\n",
            "bugs\t\t: cpu_meltdown spectre_v1 spectre_v2 spec_store_bypass l1tf mds swapgs\n",
            "bogomips\t: 4599.99\n",
            "clflush size\t: 64\n",
            "cache_alignment\t: 64\n",
            "address sizes\t: 46 bits physical, 48 bits virtual\n",
            "power management:\n",
            "\n",
            "MemTotal:       13302912 kB\n",
            "MemFree:        10597152 kB\n",
            "MemAvailable:   12410200 kB\n",
            "Buffers:          112936 kB\n",
            "Cached:          1854356 kB\n",
            "SwapCached:            0 kB\n",
            "Active:          1006988 kB\n",
            "Inactive:        1436092 kB\n",
            "Active(anon):     443924 kB\n",
            "Inactive(anon):      476 kB\n",
            "Active(file):     563064 kB\n",
            "Inactive(file):  1435616 kB\n",
            "Unevictable:           0 kB\n",
            "Mlocked:               0 kB\n",
            "SwapTotal:             0 kB\n",
            "SwapFree:              0 kB\n",
            "Dirty:              3084 kB\n",
            "Writeback:             0 kB\n",
            "AnonPages:        475924 kB\n",
            "Mapped:           253516 kB\n",
            "Shmem:              1200 kB\n",
            "KReclaimable:     111896 kB\n",
            "Slab:             158508 kB\n",
            "SReclaimable:     111896 kB\n",
            "SUnreclaim:        46612 kB\n",
            "KernelStack:        5292 kB\n",
            "PageTables:         6392 kB\n",
            "NFS_Unstable:          0 kB\n",
            "Bounce:                0 kB\n",
            "WritebackTmp:          0 kB\n",
            "CommitLimit:     6651456 kB\n",
            "Committed_AS:    3216508 kB\n",
            "VmallocTotal:   34359738367 kB\n",
            "VmallocUsed:       45248 kB\n",
            "VmallocChunk:          0 kB\n",
            "Percpu:             1448 kB\n",
            "AnonHugePages:         0 kB\n",
            "ShmemHugePages:        0 kB\n",
            "ShmemPmdMapped:        0 kB\n",
            "FileHugePages:         0 kB\n",
            "FilePmdMapped:         0 kB\n",
            "CmaTotal:              0 kB\n",
            "CmaFree:               0 kB\n",
            "HugePages_Total:       0\n",
            "HugePages_Free:        0\n",
            "HugePages_Rsvd:        0\n",
            "HugePages_Surp:        0\n",
            "Hugepagesize:       2048 kB\n",
            "Hugetlb:               0 kB\n",
            "DirectMap4k:      150336 kB\n",
            "DirectMap2M:     4040704 kB\n",
            "DirectMap1G:    11534336 kB\n",
            "Mon Feb 28 08:40:36 2022       \n",
            "+-----------------------------------------------------------------------------+\n",
            "| NVIDIA-SMI 460.32.03    Driver Version: 460.32.03    CUDA Version: 11.2     |\n",
            "|-------------------------------+----------------------+----------------------+\n",
            "| GPU  Name        Persistence-M| Bus-Id        Disp.A | Volatile Uncorr. ECC |\n",
            "| Fan  Temp  Perf  Pwr:Usage/Cap|         Memory-Usage | GPU-Util  Compute M. |\n",
            "|                               |                      |               MIG M. |\n",
            "|===============================+======================+======================|\n",
            "|   0  Tesla K80           Off  | 00000000:00:04.0 Off |                    0 |\n",
            "| N/A   37C    P8    27W / 149W |      0MiB / 11441MiB |      0%      Default |\n",
            "|                               |                      |                  N/A |\n",
            "+-------------------------------+----------------------+----------------------+\n",
            "                                                                               \n",
            "+-----------------------------------------------------------------------------+\n",
            "| Processes:                                                                  |\n",
            "|  GPU   GI   CI        PID   Type   Process name                  GPU Memory |\n",
            "|        ID   ID                                                   Usage      |\n",
            "|=============================================================================|\n",
            "|  No running processes found                                                 |\n",
            "+-----------------------------------------------------------------------------+\n"
          ]
        }
      ],
      "source": [
        "!cat /proc/cpuinfo\n",
        "!cat /proc/meminfo\n",
        "!nvidia-smi"
      ]
    },
    {
      "cell_type": "code",
      "source": [
        "# Training my own data to few-shot learning model\n",
        "from google.colab import drive\n",
        "drive.mount('/content/data');"
      ],
      "metadata": {
        "colab": {
          "base_uri": "https://localhost:8080/"
        },
        "id": "mo1FHUbnfPaI",
        "outputId": "f40f5423-ac2f-4142-eeb5-b066bfe13f95"
      },
      "execution_count": null,
      "outputs": [
        {
          "output_type": "stream",
          "name": "stdout",
          "text": [
            "Drive already mounted at /content/data; to attempt to forcibly remount, call drive.mount(\"/content/data\", force_remount=True).\n"
          ]
        }
      ]
    },
    {
      "cell_type": "code",
      "source": [
        "!ls\n",
        "!ls data/MyDrive/PROJECT/Dataset/Vision/enemy-spotted"
      ],
      "metadata": {
        "colab": {
          "base_uri": "https://localhost:8080/"
        },
        "id": "HFiBL9zbhzMZ",
        "outputId": "82595b5b-478b-4dcb-cbd2-25e70b1cf87f"
      },
      "execution_count": null,
      "outputs": [
        {
          "output_type": "stream",
          "name": "stdout",
          "text": [
            "data  sample_data\n",
            "acu  emr  multicam  ocp  xingkong\n"
          ]
        }
      ]
    },
    {
      "cell_type": "code",
      "source": [
        "from PIL import Image\n",
        "%matplotlib inline\n",
        "import matplotlib\n",
        "import matplotlib.pyplot as plt\n",
        "import torch\n",
        "from torch.utils.data import Dataset, DataLoader\n",
        "import numpy as np\n",
        "import torchvision\n",
        "from torchvision import transforms"
      ],
      "metadata": {
        "id": "vOeNch53iNSK"
      },
      "execution_count": null,
      "outputs": []
    },
    {
      "cell_type": "code",
      "source": [
        "trans = transforms.Compose([transforms.Resize((100, 100)),\n",
        "                            transforms.ToTensor(),\n",
        "                            transforms.Normalize((0.5, 0.5, 0.5), (0.5, 0.5, 0.5))\n",
        "                            ])\n",
        "trainset = torchvision.datasets.ImageFolder(root='data/MyDrive/PROJECT/Dataset/Vision/enemy-spotted',\n",
        "                                            transform = trans)"
      ],
      "metadata": {
        "id": "TDdoFtTDjdE-"
      },
      "execution_count": null,
      "outputs": []
    },
    {
      "cell_type": "code",
      "source": [
        "trainset.__getitem__(0)"
      ],
      "metadata": {
        "colab": {
          "base_uri": "https://localhost:8080/"
        },
        "id": "oaQZq3t3j6JH",
        "outputId": "3d189453-dabb-4126-c1b4-56b2795edb0a"
      },
      "execution_count": null,
      "outputs": [
        {
          "output_type": "execute_result",
          "data": {
            "text/plain": [
              "(tensor([[[ 0.2627,  0.2627,  0.2078,  ..., -0.4039, -0.3961, -0.3412],\n",
              "          [ 0.1294,  0.2157,  0.2078,  ..., -0.3961, -0.4196, -0.4588],\n",
              "          [ 0.0196,  0.1765,  0.2078,  ..., -0.3882, -0.4039, -0.4196],\n",
              "          ...,\n",
              "          [ 0.0902,  0.1059,  0.1137,  ..., -0.4745, -0.4745, -0.4667],\n",
              "          [ 0.1059,  0.1059,  0.0902,  ..., -0.5059, -0.4980, -0.4667],\n",
              "          [ 0.0902,  0.0824,  0.0824,  ..., -0.5373, -0.5451, -0.5373]],\n",
              " \n",
              "         [[ 0.2863,  0.3020,  0.2784,  ..., -0.3020, -0.2784, -0.1843],\n",
              "          [ 0.1608,  0.2549,  0.2784,  ..., -0.2941, -0.3020, -0.3020],\n",
              "          [ 0.0745,  0.2392,  0.2784,  ..., -0.2863, -0.2863, -0.2784],\n",
              "          ...,\n",
              "          [ 0.1059,  0.1373,  0.1686,  ..., -0.3804, -0.3725, -0.3569],\n",
              "          [ 0.1373,  0.1451,  0.1529,  ..., -0.3804, -0.3804, -0.3647],\n",
              "          [ 0.1529,  0.1529,  0.1529,  ..., -0.3961, -0.4039, -0.3882]],\n",
              " \n",
              "         [[ 0.3804,  0.3882,  0.3490,  ..., -0.3569, -0.3333, -0.2549],\n",
              "          [ 0.2471,  0.3412,  0.3490,  ..., -0.3490, -0.3569, -0.3725],\n",
              "          [ 0.1529,  0.3176,  0.3490,  ..., -0.3412, -0.3490, -0.3490],\n",
              "          ...,\n",
              "          [ 0.2000,  0.2235,  0.2471,  ..., -0.4118, -0.4118, -0.4118],\n",
              "          [ 0.2314,  0.2314,  0.2314,  ..., -0.4196, -0.4275, -0.4196],\n",
              "          [ 0.2627,  0.2627,  0.2627,  ..., -0.4431, -0.4510, -0.4510]]]), 0)"
            ]
          },
          "metadata": {},
          "execution_count": 22
        }
      ]
    },
    {
      "cell_type": "code",
      "source": [
        "len(trainset)"
      ],
      "metadata": {
        "colab": {
          "base_uri": "https://localhost:8080/"
        },
        "id": "P58LzQZRj-A-",
        "outputId": "9a3faa82-ed0e-4a42-d27b-382a0fa4a8f6"
      },
      "execution_count": null,
      "outputs": [
        {
          "output_type": "execute_result",
          "data": {
            "text/plain": [
              "9"
            ]
          },
          "metadata": {},
          "execution_count": 23
        }
      ]
    },
    {
      "cell_type": "code",
      "source": [
        "classes = trainset.classes"
      ],
      "metadata": {
        "id": "1ayANSORkAo_"
      },
      "execution_count": null,
      "outputs": []
    },
    {
      "cell_type": "code",
      "source": [
        "classes"
      ],
      "metadata": {
        "colab": {
          "base_uri": "https://localhost:8080/"
        },
        "id": "4RzWAZiSkCUN",
        "outputId": "194b1116-95af-4aa9-d7e5-640bdeb5ec02"
      },
      "execution_count": null,
      "outputs": [
        {
          "output_type": "execute_result",
          "data": {
            "text/plain": [
              "['acu', 'emr', 'multicam', 'ocp', 'xingkong']"
            ]
          },
          "metadata": {},
          "execution_count": 25
        }
      ]
    },
    {
      "cell_type": "code",
      "source": [
        "def imshow(img):\n",
        "  img = img / 2 + 0.5\n",
        "  np_img = img.numpy()\n",
        "  plt.imshow(np.transpose(np_img, (1, 2, 0)))\n",
        "  print(np_img.shape)\n",
        "  print((np.transpose(np_img, (1, 2, 0))).shape)"
      ],
      "metadata": {
        "id": "vExnNbiKkDFx"
      },
      "execution_count": null,
      "outputs": []
    }
  ]
}