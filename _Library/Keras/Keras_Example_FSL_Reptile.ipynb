{
  "nbformat": 4,
  "nbformat_minor": 0,
  "metadata": {
    "colab": {
      "name": "Keras_Example_FSL_Reptile.ipynb",
      "provenance": [],
      "collapsed_sections": [],
      "authorship_tag": "ABX9TyPER4Rtv3EYTVbIB+6zglYL",
      "include_colab_link": true
    },
    "kernelspec": {
      "name": "python3",
      "display_name": "Python 3"
    },
    "language_info": {
      "name": "python"
    }
  },
  "cells": [
    {
      "cell_type": "markdown",
      "metadata": {
        "id": "view-in-github",
        "colab_type": "text"
      },
      "source": [
        "<a href=\"https://colab.research.google.com/github/inyong37/Study/blob/master/_Library/Keras/Keras_Example_FSL_Reptile.ipynb\" target=\"_parent\"><img src=\"https://colab.research.google.com/assets/colab-badge.svg\" alt=\"Open In Colab\"/></a>"
      ]
    },
    {
      "cell_type": "code",
      "execution_count": null,
      "metadata": {
        "id": "s3gavdaFVCN2"
      },
      "outputs": [],
      "source": [
        "# Title: Few-Shot learning with Reptile\n",
        "# Re-Author: Inyong Hwang\n",
        "# Date: 2022-01-07-Fri.\n",
        "# Refernce: https://keras.io/examples/vision/reptile/"
      ]
    },
    {
      "cell_type": "markdown",
      "source": [
        "# Introduction\n",
        "The Reptile algorithm was developed by OpenAI to perform model agnostic meta-learning. Specifically, this algorithm was designed to quickly learn to perform new tasks with minimal training (few-shot learning). The algorithm "
      ],
      "metadata": {
        "id": "S6s5nOlXVYpb"
      }
    }
  ]
}