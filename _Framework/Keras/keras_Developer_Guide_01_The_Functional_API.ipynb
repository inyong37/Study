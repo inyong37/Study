{
  "nbformat": 4,
  "nbformat_minor": 0,
  "metadata": {
    "colab": {
      "name": "keras_Developer_Guide_01_The_Functional_API.ipynb",
      "provenance": [],
      "collapsed_sections": [],
      "authorship_tag": "ABX9TyOlRqY+sjJq8ZmBIOReJr7y",
      "include_colab_link": true
    },
    "kernelspec": {
      "name": "python3",
      "display_name": "Python 3"
    },
    "language_info": {
      "name": "python"
    },
    "accelerator": "GPU"
  },
  "cells": [
    {
      "cell_type": "markdown",
      "metadata": {
        "id": "view-in-github",
        "colab_type": "text"
      },
      "source": [
        "<a href=\"https://colab.research.google.com/github/inyong37/Study/blob/master/_Framework/Keras/keras_Developer_Guide_01_The_Functional_API.ipynb\" target=\"_parent\"><img src=\"https://colab.research.google.com/assets/colab-badge.svg\" alt=\"Open In Colab\"/></a>"
      ]
    },
    {
      "cell_type": "code",
      "execution_count": 2,
      "metadata": {
        "id": "tHsEi4Tgtvuv"
      },
      "outputs": [],
      "source": [
        "# Title: Keras Developer Guide - The Functional API\n",
        "# Re-Author: Inyong Hwang\n",
        "# Date: 2021-12-29-Wed.\n",
        "# Reference: https://keras.io/guides/"
      ]
    },
    {
      "cell_type": "code",
      "source": [
        "# The Functional API\n",
        "# Reference: https://keras.io/guides/functional_api/\n",
        "\n",
        "import numpy as np\n",
        "import tensorflow as tf\n",
        "from tensorflow import keras\n",
        "from tensorflow.keras import layers\n",
        "\n",
        "# The functional API is a way to create models that are more flexible than the tf.keras.Sequential API.\n",
        "# A deep learning model is usually a directed acyclic graph (DAG) of layers. So the functional API is a way to build graphs of layers.\n",
        "\n",
        "vector_1d_inputs = keras.Input(shape=(784,)) # 784-dimensional vector\n",
        "vector_3d_inputs = keras.Input(shape=(32, 32, 3)) # 32 * 32 size with RGB channel\n",
        "print(vector_1d_inputs.shape)\n",
        "print(vector_1d_inputs.dtype)\n",
        "\n",
        "dense = layers.Dense(64, activation='relu')\n",
        "x = dense(vector_1d_inputs)\n",
        "x = layers.Dense(64, activation='relu')(x)\n",
        "outputs = layers.Dense(10)(x)\n",
        "model = keras.Model(inputs=vector_1d_inputs, outputs=outputs, name=\"mnist_model\")\n",
        "model.summary()\n",
        "keras.utils.plot_model(model, 'my_first_model.png')\n",
        "\n",
        "# Training evaluation, and infernece\n",
        "(x_train, y_train), (x_test, y_test) = keras.datasets.mnist.load_data()\n",
        "x_train = x_train.reshape(60000, 784).astype('float32') / 255\n",
        "x_test = x_test.reshape(10000, 784).astype('float32') / 255\n",
        "model.compile(\n",
        "    loss=keras.losses.SparseCategoricalCrossentropy(from_logits=True),\n",
        "    optimizer=keras.optimizers.RMSprop(),\n",
        "    metrics=['accuracy'],\n",
        ")\n",
        "history = model.fit(x_train, y_train, batch_size=64, epochs=2, validation_split=0.2)\n",
        "test_scores = model.evaluate(x_test, y_test, verbose=2)\n",
        "print('Test loss:', test_scores[0])\n",
        "print('Test accuracy:', test_scores[1])\n",
        "\n",
        "# Save and serialize\n",
        "model.save('path_to_my_model')\n",
        "del model\n",
        "# Recreate the exact same model purely from the file:\n",
        "model = keras.models.load_model('path_to_my_model')"
      ],
      "metadata": {
        "colab": {
          "base_uri": "https://localhost:8080/"
        },
        "id": "--gtOSMhuHAP",
        "outputId": "ef529d5a-9f82-4905-a876-5998a45a389b"
      },
      "execution_count": 8,
      "outputs": [
        {
          "output_type": "stream",
          "name": "stdout",
          "text": [
            "(None, 784)\n",
            "<dtype: 'float32'>\n",
            "Model: \"mnist_model\"\n",
            "_________________________________________________________________\n",
            " Layer (type)                Output Shape              Param #   \n",
            "=================================================================\n",
            " input_11 (InputLayer)       [(None, 784)]             0         \n",
            "                                                                 \n",
            " dense_9 (Dense)             (None, 64)                50240     \n",
            "                                                                 \n",
            " dense_10 (Dense)            (None, 64)                4160      \n",
            "                                                                 \n",
            " dense_11 (Dense)            (None, 10)                650       \n",
            "                                                                 \n",
            "=================================================================\n",
            "Total params: 55,050\n",
            "Trainable params: 55,050\n",
            "Non-trainable params: 0\n",
            "_________________________________________________________________\n",
            "Epoch 1/2\n",
            "750/750 [==============================] - 4s 4ms/step - loss: 0.3430 - accuracy: 0.9040 - val_loss: 0.1871 - val_accuracy: 0.9468\n",
            "Epoch 2/2\n",
            "750/750 [==============================] - 3s 4ms/step - loss: 0.1637 - accuracy: 0.9517 - val_loss: 0.1478 - val_accuracy: 0.9572\n",
            "313/313 - 1s - loss: 0.1350 - accuracy: 0.9581 - 685ms/epoch - 2ms/step\n",
            "Test loss: 0.13497212529182434\n",
            "Test accuracy: 0.9581000208854675\n",
            "INFO:tensorflow:Assets written to: path_to_my_model/assets\n"
          ]
        }
      ]
    },
    {
      "cell_type": "code",
      "source": [
        ""
      ],
      "metadata": {
        "id": "5pNYWrbo1sHP"
      },
      "execution_count": null,
      "outputs": []
    }
  ]
}